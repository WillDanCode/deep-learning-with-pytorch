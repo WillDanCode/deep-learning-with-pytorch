{
 "cells": [
  {
   "cell_type": "markdown",
   "metadata": {},
   "source": [
    "# Intuisi Regresi Linear"
   ]
  },
  {
   "cell_type": "code",
   "execution_count": 1,
   "metadata": {},
   "outputs": [],
   "source": [
    "import numpy as np\n",
    "import matplotlib.pyplot as plt\n",
    "\n",
    "np.random.seed(1)\n",
    "n = 50\n",
    "x = np.random.randn(n)\n",
    "y = x * np.random.randn(n)\n",
    "\n",
    "colors = np.random.randn(n)\n"
   ]
  },
  {
   "cell_type": "code",
   "execution_count": 5,
   "metadata": {},
   "outputs": [
    {
     "data": {
      "image/png": "[encoded data removed]",
      "text/plain": [
       "<matplotlib.figure.Figure at 0x7ff9db7dc4e0>"
      ]
     },
     "metadata": {},
     "output_type": "display_data"
    }
   ],
   "source": [
    "plt.plot(np.unique(x), np.poly1d(np.polyfit(x, y, 1))(np.unique(x)))\n",
    "plt.scatter(x, y, c=colors, alpha=0.5)\n",
    "plt.show()"
   ]
  },
  {
   "cell_type": "markdown",
   "metadata": {},
   "source": [
    "# Regresi Linear dengan PyTorch"
   ]
  },
  {
   "cell_type": "code",
   "execution_count": 6,
   "metadata": {},
   "outputs": [],
   "source": [
    "x = [x for x in range(11)]"
   ]
  },
  {
   "cell_type": "code",
   "execution_count": 7,
   "metadata": {},
   "outputs": [
    {
     "data": {
      "text/plain": [
       "[0, 1, 2, 3, 4, 5, 6, 7, 8, 9, 10]"
      ]
     },
     "execution_count": 7,
     "metadata": {},
     "output_type": "execute_result"
    }
   ],
   "source": [
    "x"
   ]
  },
  {
   "cell_type": "code",
   "execution_count": 23,
   "metadata": {},
   "outputs": [],
   "source": [
    "X_train = np.array(x, dtype=np.float32)"
   ]
  },
  {
   "cell_type": "code",
   "execution_count": 24,
   "metadata": {},
   "outputs": [
    {
     "data": {
      "text/plain": [
       "array([ 0.,  1.,  2.,  3.,  4.,  5.,  6.,  7.,  8.,  9., 10.],\n",
       "      dtype=float32)"
      ]
     },
     "execution_count": 24,
     "metadata": {},
     "output_type": "execute_result"
    }
   ],
   "source": [
    "X_train"
   ]
  },
  {
   "cell_type": "code",
   "execution_count": 25,
   "metadata": {},
   "outputs": [
    {
     "data": {
      "text/plain": [
       "(11,)"
      ]
     },
     "execution_count": 25,
     "metadata": {},
     "output_type": "execute_result"
    }
   ],
   "source": [
    "X_train.shape"
   ]
  },
  {
   "cell_type": "code",
   "execution_count": 26,
   "metadata": {},
   "outputs": [],
   "source": [
    "X_train = X_train.reshape(-1, 1)"
   ]
  },
  {
   "cell_type": "code",
   "execution_count": 27,
   "metadata": {},
   "outputs": [
    {
     "data": {
      "text/plain": [
       "(11, 1)"
      ]
     },
     "execution_count": 27,
     "metadata": {},
     "output_type": "execute_result"
    }
   ],
   "source": [
    "X_train.shape"
   ]
  },
  {
   "cell_type": "code",
   "execution_count": 28,
   "metadata": {},
   "outputs": [
    {
     "data": {
      "text/plain": [
       "array([[ 0.],\n",
       "       [ 1.],\n",
       "       [ 2.],\n",
       "       [ 3.],\n",
       "       [ 4.],\n",
       "       [ 5.],\n",
       "       [ 6.],\n",
       "       [ 7.],\n",
       "       [ 8.],\n",
       "       [ 9.],\n",
       "       [10.]], dtype=float32)"
      ]
     },
     "execution_count": 28,
     "metadata": {},
     "output_type": "execute_result"
    }
   ],
   "source": [
    "X_train"
   ]
  },
  {
   "cell_type": "code",
   "execution_count": 29,
   "metadata": {},
   "outputs": [
    {
     "data": {
      "text/plain": [
       "dtype('float32')"
      ]
     },
     "execution_count": 29,
     "metadata": {},
     "output_type": "execute_result"
    }
   ],
   "source": [
    "X_train.dtype"
   ]
  },
  {
   "cell_type": "code",
   "execution_count": 30,
   "metadata": {},
   "outputs": [],
   "source": [
    "y = [2 * i + 1 for i in x]"
   ]
  },
  {
   "cell_type": "code",
   "execution_count": 31,
   "metadata": {},
   "outputs": [
    {
     "data": {
      "text/plain": [
       "[1, 3, 5, 7, 9, 11, 13, 15, 17, 19, 21]"
      ]
     },
     "execution_count": 31,
     "metadata": {},
     "output_type": "execute_result"
    }
   ],
   "source": [
    "y"
   ]
  },
  {
   "cell_type": "code",
   "execution_count": 32,
   "metadata": {},
   "outputs": [],
   "source": [
    "y_train = np.array(y, dtype=np.float32)"
   ]
  },
  {
   "cell_type": "code",
   "execution_count": 33,
   "metadata": {},
   "outputs": [
    {
     "data": {
      "text/plain": [
       "array([ 1.,  3.,  5.,  7.,  9., 11., 13., 15., 17., 19., 21.],\n",
       "      dtype=float32)"
      ]
     },
     "execution_count": 33,
     "metadata": {},
     "output_type": "execute_result"
    }
   ],
   "source": [
    "y_train"
   ]
  },
  {
   "cell_type": "code",
   "execution_count": 34,
   "metadata": {},
   "outputs": [
    {
     "data": {
      "text/plain": [
       "(11,)"
      ]
     },
     "execution_count": 34,
     "metadata": {},
     "output_type": "execute_result"
    }
   ],
   "source": [
    "y_train.shape"
   ]
  },
  {
   "cell_type": "code",
   "execution_count": 35,
   "metadata": {},
   "outputs": [],
   "source": [
    "y_train = y_train.reshape(-1, 1)"
   ]
  },
  {
   "cell_type": "code",
   "execution_count": 36,
   "metadata": {},
   "outputs": [
    {
     "data": {
      "text/plain": [
       "array([[ 1.],\n",
       "       [ 3.],\n",
       "       [ 5.],\n",
       "       [ 7.],\n",
       "       [ 9.],\n",
       "       [11.],\n",
       "       [13.],\n",
       "       [15.],\n",
       "       [17.],\n",
       "       [19.],\n",
       "       [21.]], dtype=float32)"
      ]
     },
     "execution_count": 36,
     "metadata": {},
     "output_type": "execute_result"
    }
   ],
   "source": [
    "y_train"
   ]
  },
  {
   "cell_type": "markdown",
   "metadata": {},
   "source": [
    "# Membuat model"
   ]
  },
  {
   "cell_type": "code",
   "execution_count": 38,
   "metadata": {},
   "outputs": [],
   "source": [
    "import torch\n",
    "import torch.nn as nn\n",
    "from torch.autograd import Variable"
   ]
  },
  {
   "cell_type": "code",
   "execution_count": 40,
   "metadata": {},
   "outputs": [],
   "source": [
    "class LinearRegressionModel(nn.Module):\n",
    "    def __init__(self, input_size, output_size):\n",
    "        super(LinearRegressionModel, self).__init__()\n",
    "        self.linear = nn.Linear(input_size, output_size)\n",
    "        \n",
    "        \n",
    "    def forward(self, x):\n",
    "        out = self.linear(x)\n",
    "        return out"
   ]
  },
  {
   "cell_type": "code",
   "execution_count": 41,
   "metadata": {},
   "outputs": [],
   "source": [
    "input_dim = 1\n",
    "output_dim = 1\n",
    "\n",
    "model = LinearRegressionModel(input_dim, output_dim)"
   ]
  },
  {
   "cell_type": "code",
   "execution_count": 43,
   "metadata": {},
   "outputs": [],
   "source": [
    "criterion = nn.MSELoss()"
   ]
  },
  {
   "cell_type": "code",
   "execution_count": 44,
   "metadata": {},
   "outputs": [],
   "source": [
    "learning_rate = 0.01\n",
    "optimizer = torch.optim.SGD(model.parameters(), lr=learning_rate)"
   ]
  },
  {
   "cell_type": "code",
   "execution_count": 46,
   "metadata": {},
   "outputs": [],
   "source": [
    "epochs = 100"
   ]
  },
  {
   "cell_type": "code",
   "execution_count": 48,
   "metadata": {},
   "outputs": [
    {
     "name": "stdout",
     "output_type": "stream",
     "text": [
      "epoch 1, loss 0.22487510740756989\n",
      "epoch 2, loss 0.22236377000808716\n",
      "epoch 3, loss 0.21988064050674438\n",
      "epoch 4, loss 0.21742525696754456\n",
      "epoch 5, loss 0.214997336268425\n",
      "epoch 6, loss 0.2125963717699051\n",
      "epoch 7, loss 0.21022242307662964\n",
      "epoch 8, loss 0.20787490904331207\n",
      "epoch 9, loss 0.20555372536182404\n",
      "epoch 10, loss 0.20325809717178345\n",
      "epoch 11, loss 0.20098847150802612\n",
      "epoch 12, loss 0.19874407351016998\n",
      "epoch 13, loss 0.19652466475963593\n",
      "epoch 14, loss 0.1943303644657135\n",
      "epoch 15, loss 0.19215993583202362\n",
      "epoch 16, loss 0.19001446664333344\n",
      "epoch 17, loss 0.1878923922777176\n",
      "epoch 18, loss 0.18579429388046265\n",
      "epoch 19, loss 0.18371953070163727\n",
      "epoch 20, loss 0.18166808784008026\n",
      "epoch 21, loss 0.17963923513889313\n",
      "epoch 22, loss 0.17763341963291168\n",
      "epoch 23, loss 0.1756497025489807\n",
      "epoch 24, loss 0.17368832230567932\n",
      "epoch 25, loss 0.17174869775772095\n",
      "epoch 26, loss 0.16983091831207275\n",
      "epoch 27, loss 0.16793441772460938\n",
      "epoch 28, loss 0.1660590022802353\n",
      "epoch 29, loss 0.16420458257198334\n",
      "epoch 30, loss 0.16237114369869232\n",
      "epoch 31, loss 0.16055776178836823\n",
      "epoch 32, loss 0.15876504778862\n",
      "epoch 33, loss 0.15699206292629242\n",
      "epoch 34, loss 0.15523898601531982\n",
      "epoch 35, loss 0.15350531041622162\n",
      "epoch 36, loss 0.15179134905338287\n",
      "epoch 37, loss 0.1500961184501648\n",
      "epoch 38, loss 0.14842011034488678\n",
      "epoch 39, loss 0.14676259458065033\n",
      "epoch 40, loss 0.14512382447719574\n",
      "epoch 41, loss 0.1435033082962036\n",
      "epoch 42, loss 0.14190073311328888\n",
      "epoch 43, loss 0.14031629264354706\n",
      "epoch 44, loss 0.13874933123588562\n",
      "epoch 45, loss 0.1372000277042389\n",
      "epoch 46, loss 0.13566793501377106\n",
      "epoch 47, loss 0.1341528445482254\n",
      "epoch 48, loss 0.13265489041805267\n",
      "epoch 49, loss 0.1311735212802887\n",
      "epoch 50, loss 0.12970887124538422\n",
      "epoch 51, loss 0.12826019525527954\n",
      "epoch 52, loss 0.12682804465293884\n",
      "epoch 53, loss 0.1254117637872696\n",
      "epoch 54, loss 0.12401115894317627\n",
      "epoch 55, loss 0.12262645363807678\n",
      "epoch 56, loss 0.12125708907842636\n",
      "epoch 57, loss 0.11990287899971008\n",
      "epoch 58, loss 0.11856413632631302\n",
      "epoch 59, loss 0.11724009364843369\n",
      "epoch 60, loss 0.11593092232942581\n",
      "epoch 61, loss 0.11463624984025955\n",
      "epoch 62, loss 0.11335622519254684\n",
      "epoch 63, loss 0.11209037154912949\n",
      "epoch 64, loss 0.11083883792161942\n",
      "epoch 65, loss 0.10960099846124649\n",
      "epoch 66, loss 0.10837705433368683\n",
      "epoch 67, loss 0.10716698318719864\n",
      "epoch 68, loss 0.10597005486488342\n",
      "epoch 69, loss 0.10478675365447998\n",
      "epoch 70, loss 0.10361673682928085\n",
      "epoch 71, loss 0.10245957225561142\n",
      "epoch 72, loss 0.10131547600030899\n",
      "epoch 73, loss 0.10018398612737656\n",
      "epoch 74, loss 0.0990653932094574\n",
      "epoch 75, loss 0.09795916825532913\n",
      "epoch 76, loss 0.09686517715454102\n",
      "epoch 77, loss 0.09578344970941544\n",
      "epoch 78, loss 0.09471388161182404\n",
      "epoch 79, loss 0.09365617483854294\n",
      "epoch 80, loss 0.09261026233434677\n",
      "epoch 81, loss 0.09157638996839523\n",
      "epoch 82, loss 0.09055346995592117\n",
      "epoch 83, loss 0.08954237401485443\n",
      "epoch 84, loss 0.08854249119758606\n",
      "epoch 85, loss 0.0875537097454071\n",
      "epoch 86, loss 0.08657605946063995\n",
      "epoch 87, loss 0.08560929447412491\n",
      "epoch 88, loss 0.08465337753295898\n",
      "epoch 89, loss 0.08370791375637054\n",
      "epoch 90, loss 0.08277326077222824\n",
      "epoch 91, loss 0.08184900134801865\n",
      "epoch 92, loss 0.08093500137329102\n",
      "epoch 93, loss 0.08003102988004684\n",
      "epoch 94, loss 0.07913749665021896\n",
      "epoch 95, loss 0.0782538428902626\n",
      "epoch 96, loss 0.07737985253334045\n",
      "epoch 97, loss 0.07651568204164505\n",
      "epoch 98, loss 0.07566129416227341\n",
      "epoch 99, loss 0.0748165175318718\n",
      "epoch 100, loss 0.07398099452257156\n"
     ]
    }
   ],
   "source": [
    "for epoch in range(epochs):\n",
    "    epoch += 1\n",
    "    \n",
    "    inputs = Variable(torch.from_numpy(X_train))\n",
    "    labels = Variable(torch.from_numpy(y_train))\n",
    "    \n",
    "    optimizer.zero_grad()\n",
    "    \n",
    "    outputs = model(inputs)\n",
    "    \n",
    "    loss = criterion(outputs, labels)\n",
    "    \n",
    "    loss.backward()\n",
    "    \n",
    "    optimizer.step()\n",
    "    \n",
    "    print(\"epoch {}, loss {}\".format(epoch, loss.data[0]))\n",
    "    "
   ]
  },
  {
   "cell_type": "code",
   "execution_count": 51,
   "metadata": {},
   "outputs": [
    {
     "data": {
      "text/plain": [
       "array([[ 0.49403512],\n",
       "       [ 2.5668988 ],\n",
       "       [ 4.6397624 ],\n",
       "       [ 6.712626  ],\n",
       "       [ 8.785489  ],\n",
       "       [10.858353  ],\n",
       "       [12.931216  ],\n",
       "       [15.00408   ],\n",
       "       [17.076944  ],\n",
       "       [19.149809  ],\n",
       "       [21.222672  ]], dtype=float32)"
      ]
     },
     "execution_count": 51,
     "metadata": {},
     "output_type": "execute_result"
    }
   ],
   "source": [
    "predicted = model(Variable(torch.from_numpy(X_train))).data.numpy()\n",
    "predicted"
   ]
  },
  {
   "cell_type": "code",
   "execution_count": 52,
   "metadata": {},
   "outputs": [
    {
     "data": {
      "text/plain": [
       "array([[ 1.],\n",
       "       [ 3.],\n",
       "       [ 5.],\n",
       "       [ 7.],\n",
       "       [ 9.],\n",
       "       [11.],\n",
       "       [13.],\n",
       "       [15.],\n",
       "       [17.],\n",
       "       [19.],\n",
       "       [21.]], dtype=float32)"
      ]
     },
     "execution_count": 52,
     "metadata": {},
     "output_type": "execute_result"
    }
   ],
   "source": [
    "y_train"
   ]
  },
  {
   "cell_type": "code",
   "execution_count": 54,
   "metadata": {},
   "outputs": [
    {
     "data": {
      "image/png": "[encoded data removed]",
      "text/plain": [
       "<matplotlib.figure.Figure at 0x7ff9a78ab3c8>"
      ]
     },
     "metadata": {},
     "output_type": "display_data"
    }
   ],
   "source": [
    "plt.clf()\n",
    "\n",
    "plt.plot(X_train, y_train, 'go', label='True Data', alpha=0.5)\n",
    "plt.plot(X_train, predicted, '--', label='prediction', alpha=0.5)\n",
    "\n",
    "plt.legend(loc='best')\n",
    "plt.show()"
   ]
  },
  {
   "cell_type": "markdown",
   "metadata": {},
   "source": [
    "# Menyimpan Model"
   ]
  },
  {
   "cell_type": "code",
   "execution_count": 57,
   "metadata": {},
   "outputs": [],
   "source": [
    "save_model = False\n",
    "if save_model:\n",
    "    torch.save(model.state_dict(), 'linear_regression_model.pkl')"
   ]
  },
  {
   "cell_type": "markdown",
   "metadata": {},
   "source": [
    "# Mengeluarkan Model"
   ]
  },
  {
   "cell_type": "code",
   "execution_count": 58,
   "metadata": {},
   "outputs": [],
   "source": [
    "load_model = False\n",
    "if load_model:\n",
    "    model.load_state_dict(torch.load('linear_regression_model.pkl'))"
   ]
  },
  {
   "cell_type": "code",
   "execution_count": null,
   "metadata": {},
   "outputs": [],
   "source": []
  }
 ],
 "metadata": {
  "kernelspec": {
   "display_name": "Python 3",
   "language": "python",
   "name": "python3"
  },
  "language_info": {
   "codemirror_mode": {
    "name": "ipython",
    "version": 3
   },
   "file_extension": ".py",
   "mimetype": "text/x-python",
   "name": "python",
   "nbconvert_exporter": "python",
   "pygments_lexer": "ipython3",
   "version": "3.6.4"
  }
 },
 "nbformat": 4,
 "nbformat_minor": 2
}
